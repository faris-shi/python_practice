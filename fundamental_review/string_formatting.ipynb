{
 "metadata": {
  "language_info": {
   "codemirror_mode": {
    "name": "ipython",
    "version": 3
   },
   "file_extension": ".py",
   "mimetype": "text/x-python",
   "name": "python",
   "nbconvert_exporter": "python",
   "pygments_lexer": "ipython3",
   "version": "3.9.0-final"
  },
  "orig_nbformat": 2,
  "kernelspec": {
   "name": "python3",
   "display_name": "Python 3.9.0 64-bit",
   "metadata": {
    "interpreter": {
     "hash": "aee8b7b246df8f9039afb4144a1f6fd8d2ca17a180786b69acc140d282b71a49"
    }
   }
  }
 },
 "nbformat": 4,
 "nbformat_minor": 2,
 "cells": [
  {
   "source": [
    "# String Formatting\n",
    "\n",
    "There are four main ways to do jobs of string formatting:\n",
    "\n",
    "1. `+`\n",
    "2. `% formatting`\n",
    "3. `format` function\n",
    "4. `f-strings`\n",
    "\n",
    "## `+`"
   ],
   "cell_type": "markdown",
   "metadata": {}
  },
  {
   "cell_type": "code",
   "execution_count": 16,
   "metadata": {},
   "outputs": [
    {
     "output_type": "stream",
     "name": "stdout",
     "text": [
      "Faris Shi\nFaris Shi love playing basketball\n"
     ]
    }
   ],
   "source": [
    "first_name = 'Faris'\n",
    "last_name = 'Shi'\n",
    "sport_name = 'basketball'\n",
    "\n",
    "# it is ok\n",
    "print(first_name + ' ' + last_name)\n",
    "\n",
    "# it is not recommended\n",
    "print(first_name + ' ' + last_name + ' love playing ' + sport_name)"
   ]
  },
  {
   "source": [
    "## `% formatting`\n",
    "\n",
    "Before Python 3.6, we always concatenate string by using `% formatting`.\n",
    "\n",
    "But actually, `% formatting` is not recomended by [Python Doc](https://docs.python.org/3/library/stdtypes.html#printf-style-string-formatting) due to:\n",
    "\n",
    "1. it is verbose when a lot need to be concatenated together. can lead to error and makes code unreadable \n",
    "2. it can not display tuples or dictionaries correctly"
   ],
   "cell_type": "markdown",
   "metadata": {}
  },
  {
   "cell_type": "code",
   "execution_count": 17,
   "metadata": {},
   "outputs": [
    {
     "output_type": "stream",
     "name": "stdout",
     "text": [
      "Faris Shi love playing basketball\nHello Faris Shi, you are a developer, your favorite langauge is Python, and also love playing basketball\n"
     ]
    }
   ],
   "source": [
    "# it is ok\n",
    "print('%s %s love playing %s'%(first_name, last_name, sport_name))\n",
    "\n",
    "#it is not recommended, it is not easy to read it.\n",
    "career = 'developer'\n",
    "language = 'Python'\n",
    "print('Hello %s %s, you are a %s, your favorite langauge is %s, and also love playing %s'%(first_name, last_name, career, language, sport_name))"
   ]
  },
  {
   "source": [
    "## `format` function\n",
    "\n",
    "string.format function is the improvement of `% formatting` that it uses normal function call syntax and can be extensible through implementing `__format__` function to make `object` converting to string\n",
    "\n",
    "However, it also have the same issue(readability) with `% formatting` unless you use dictionary to fix that."
   ],
   "cell_type": "markdown",
   "metadata": {}
  },
  {
   "cell_type": "code",
   "execution_count": 18,
   "metadata": {},
   "outputs": [
    {
     "output_type": "stream",
     "name": "stdout",
     "text": [
      "Hello Faris Shi love playing basketball\nHello Faris Shi love playing basketball\nHello Faris Shi love playing basketball\nHello, Faris. You are 30\nHello, Faris. You are 30\n"
     ]
    }
   ],
   "source": [
    "## normal way\n",
    "print('Hello {} {} love playing {}'.format(first_name, last_name, sport_name))\n",
    "\n",
    "## can specify the order by referecing the index\n",
    "print('Hello {1} {2} love playing {0}'.format(sport_name, first_name, last_name))\n",
    "\n",
    "#can specifiy the name like keyword arguments\n",
    "print('Hello {first_name} {last_name} love playing {sport_name}'.format(sport_name=sport_name, first_name=first_name, last_name=last_name))\n",
    "\n",
    "## and we can operate dictionary\n",
    "person = {'name': 'Faris', 'age': 30}\n",
    "print('Hello, {}. You are {}'.format(person[\"name\"], person[\"age\"]))\n",
    "\n",
    "## can do it like **kwargs\n",
    "print('Hello, {name}. You are {age}'.format(**person))"
   ]
  },
  {
   "source": [
    "## `f strings`\n",
    "\n",
    "It also uses the `__format__` protocol, and makes string-formatting easier. Just need keep `f` keyword in the beginning.\n",
    "\n",
    "\n",
    "`f-strings` is faster than both `format` function and `% formatting` since it is evaluated at runtime rather than constant values."
   ],
   "cell_type": "markdown",
   "metadata": {}
  },
  {
   "cell_type": "code",
   "execution_count": 19,
   "metadata": {},
   "outputs": [
    {
     "output_type": "stream",
     "name": "stdout",
     "text": [
      "Hello Faris Shi love playing basketball\n"
     ]
    }
   ],
   "source": [
    "print(f'Hello {first_name} {last_name} love playing {sport_name}')"
   ]
  },
  {
   "source": [],
   "cell_type": "markdown",
   "metadata": {}
  }
 ]
}