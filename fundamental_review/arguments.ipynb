{
 "metadata": {
  "language_info": {
   "codemirror_mode": {
    "name": "ipython",
    "version": 3
   },
   "file_extension": ".py",
   "mimetype": "text/x-python",
   "name": "python",
   "nbconvert_exporter": "python",
   "pygments_lexer": "ipython3",
   "version": "3.9.0-final"
  },
  "orig_nbformat": 2,
  "kernelspec": {
   "name": "python3",
   "display_name": "Python 3.9.0 64-bit",
   "metadata": {
    "interpreter": {
     "hash": "aee8b7b246df8f9039afb4144a1f6fd8d2ca17a180786b69acc140d282b71a49"
    }
   }
  }
 },
 "nbformat": 4,
 "nbformat_minor": 2,
 "cells": [
  {
   "source": [
    "# Python Function Argument\n",
    "\n",
    "In Python, we can define a function that can takes variable number of arguments.\n",
    "\n",
    "There are three types of arguments.\n",
    "\n",
    "1. Positional Arguments\n",
    "2. Default Arguments\n",
    "3. Keyword Arguments\n",
    "4. Arbitrary Arguments"
   ],
   "cell_type": "markdown",
   "metadata": {}
  },
  {
   "source": [
    "## Positional Arguments\n",
    "\n",
    "it does not allow to miss any arguments and mis-order arguments."
   ],
   "cell_type": "markdown",
   "metadata": {}
  },
  {
   "cell_type": "code",
   "execution_count": 21,
   "metadata": {},
   "outputs": [
    {
     "output_type": "stream",
     "name": "stdout",
     "text": [
      "Hello Faris, Good morning!\n"
     ]
    }
   ],
   "source": [
    "#greet function has two parameters.\n",
    "def greet(name, msg):\n",
    "    print('Hello', name + ', ' + msg)\n",
    "    \n",
    "greet('Faris', 'Good morning!')"
   ]
  },
  {
   "source": [
    "\n",
    "## Default Arguments\n",
    "\n",
    "we can provide a default value to an argument by using \"=\""
   ],
   "cell_type": "markdown",
   "metadata": {}
  },
  {
   "cell_type": "code",
   "execution_count": 22,
   "metadata": {},
   "outputs": [
    {
     "output_type": "stream",
     "name": "stdout",
     "text": [
      "Hello Kate, Good morning!\nHello Kate, How are you?\n"
     ]
    }
   ],
   "source": [
    "def greet(name, msg = 'Good morning!'):\n",
    "    print('Hello', name + ', ' + msg)\n",
    "\n",
    "greet('Kate')\n",
    "greet('Kate', 'How are you?')"
   ]
  },
  {
   "source": [
    "**no-default arguments must be left of default arguments**"
   ],
   "cell_type": "markdown",
   "metadata": {}
  },
  {
   "cell_type": "code",
   "execution_count": 23,
   "metadata": {},
   "outputs": [
    {
     "output_type": "error",
     "ename": "SyntaxError",
     "evalue": "non-default argument follows default argument (<ipython-input-23-ae7f1652d4ae>, line 1)",
     "traceback": [
      "\u001b[0;36m  File \u001b[0;32m\"<ipython-input-23-ae7f1652d4ae>\"\u001b[0;36m, line \u001b[0;32m1\u001b[0m\n\u001b[0;31m    def greet(msg = 'Good morning!', name):\u001b[0m\n\u001b[0m                                         ^\u001b[0m\n\u001b[0;31mSyntaxError\u001b[0m\u001b[0;31m:\u001b[0m non-default argument follows default argument\n"
     ]
    }
   ],
   "source": [
    "#raise error\n",
    "def greet(msg = 'Good morning!', name):\n",
    "    print('Hello', name + ', ' + msg)"
   ]
  },
  {
   "source": [
    "\n",
    "## Keyword Arugments:\n",
    "\n",
    "when we call functions in this way, the order (position) of arguments can be changed."
   ],
   "cell_type": "markdown",
   "metadata": {}
  },
  {
   "cell_type": "code",
   "execution_count": 24,
   "metadata": {},
   "outputs": [
    {
     "output_type": "error",
     "ename": "SyntaxError",
     "evalue": "positional argument follows keyword argument (<ipython-input-24-a41727a92cea>, line 12)",
     "traceback": [
      "\u001b[0;36m  File \u001b[0;32m\"<ipython-input-24-a41727a92cea>\"\u001b[0;36m, line \u001b[0;32m12\u001b[0m\n\u001b[0;31m    greet(msg=\"How are you?\", 'Kate')\u001b[0m\n\u001b[0m                                    ^\u001b[0m\n\u001b[0;31mSyntaxError\u001b[0m\u001b[0;31m:\u001b[0m positional argument follows keyword argument\n"
     ]
    }
   ],
   "source": [
    "def greet(name, msg = 'Good morning!'):\n",
    "    print('Hello', name + ', ' + msg)\n",
    "\n",
    "greet(name=\"Kate\", msg=\"How are you?\")\n",
    "\n",
    "greet(msg=\"How are you?\", name=\"Kate\")\n",
    "\n",
    "#when mixing positional arugments with keyword arguments, keep in mind that keyword arguments must follow positional arguments.\n",
    "greet(\"Kate\", msg=\"How are you?\")\n",
    "\n",
    "#raise error\n",
    "greet(msg=\"How are you?\", 'Kate')"
   ]
  },
  {
   "source": [
    "## Arbitary Arguments\n",
    "\n",
    "we do not know in advance the number of arguments that will past into a function.\n",
    "\n",
    "### `*args` (Non Keyword Arguments)"
   ],
   "cell_type": "markdown",
   "metadata": {}
  },
  {
   "cell_type": "code",
   "execution_count": 4,
   "metadata": {},
   "outputs": [
    {
     "output_type": "stream",
     "name": "stdout",
     "text": [
      "The first argument:  1\nThe second argument:  (2, 3, 4, 5, 6)\nThe type of the second one is:  <class 'tuple'>\n"
     ]
    }
   ],
   "source": [
    "def test_var_args(f_arg, *args):\n",
    "    print('The first argument: ', f_arg)\n",
    "    print('The second argument: ', args)\n",
    "    print('The type of the second one is: ', type(args))\n",
    "\n",
    "test_var_args(1, 2, 3, 4, 5, 6)"
   ]
  },
  {
   "source": [
    "### `**kwargs` (Keyword Arguments)"
   ],
   "cell_type": "markdown",
   "metadata": {}
  },
  {
   "cell_type": "code",
   "execution_count": 8,
   "metadata": {},
   "outputs": [
    {
     "output_type": "stream",
     "name": "stdout",
     "text": [
      "the kwags argument:  {'name': 'Faris', 'id': '6379', 'address': '123 Road'}\nthe type of the argument:  <class 'dict'>\nname = Faris\nid = 6379\naddress = 123 Road\n"
     ]
    }
   ],
   "source": [
    "def test_var_kwargs(**kwags):\n",
    "    print('the kwags argument: ', kwags)\n",
    "    print('the type of the argument: ', type(kwags))\n",
    "    for key, value in kwags.items():\n",
    "        print('{0} = {1}'.format(key, value))\n",
    "\n",
    "test_var_kwargs(name='Faris', id='6379', address='123 Road')"
   ]
  },
  {
   "source": [
    "### Practice"
   ],
   "cell_type": "markdown",
   "metadata": {}
  },
  {
   "cell_type": "code",
   "execution_count": 13,
   "metadata": {},
   "outputs": [
    {
     "output_type": "stream",
     "name": "stdout",
     "text": [
      "-------------\narg1:  two\narg2:  1\narg3:  2\n-------------\narg1:  two\narg2:  1\narg3:  2\n-------------\narg1:  two\narg2:  1\narg3:  2\n"
     ]
    }
   ],
   "source": [
    "def practice_1(arg1, arg2, arg3):\n",
    "    print('-------------')\n",
    "    print('arg1: ', arg1)\n",
    "    print('arg2: ', arg2)\n",
    "    print('arg3: ', arg3)\n",
    "\n",
    "# frist with normal args\n",
    "practice_1('two', 1, 2)\n",
    "\n",
    "#second with *args\n",
    "args = ('two', 1, 2)\n",
    "practice_1(*args)\n",
    "\n",
    "#second with **kwargs\n",
    "kwargs = {'arg1': 'two', 'arg2': 1, 'arg3': 2}\n",
    "practice_1(**kwargs)"
   ]
  }
 ]
}