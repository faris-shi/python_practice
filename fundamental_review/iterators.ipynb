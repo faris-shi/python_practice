{
 "metadata": {
  "language_info": {
   "codemirror_mode": {
    "name": "ipython",
    "version": 3
   },
   "file_extension": ".py",
   "mimetype": "text/x-python",
   "name": "python",
   "nbconvert_exporter": "python",
   "pygments_lexer": "ipython3",
   "version": "3.9.0-final"
  },
  "orig_nbformat": 2,
  "kernelspec": {
   "name": "python3",
   "display_name": "Python 3.9.0 64-bit",
   "metadata": {
    "interpreter": {
     "hash": "aee8b7b246df8f9039afb4144a1f6fd8d2ca17a180786b69acc140d282b71a49"
    }
   }
  }
 },
 "nbformat": 4,
 "nbformat_minor": 2,
 "cells": [
  {
   "source": [
    "## `iterable`\n",
    "\n",
    "it can be any object which must implement `__iter__` method and provide us with `iterator` objects\n",
    "\n",
    "Technically, in Python, list, tuple, dictionary, set, string and generator are iterable objects that you can get iterator objects from them to traverse them.\n",
    "\n",
    "Every iterable object has `iter()` which is used to get an iterator object \n",
    "\n",
    "`iter()` will invoke `__iter__`"
   ],
   "cell_type": "markdown",
   "metadata": {}
  },
  {
   "source": [
    "## `iterator`\n",
    "\n",
    "It can be any object in python which must implement `__next__` method and can be traversed through all items by using `next` method\n",
    "\n",
    "`next` will invoke `__next__`\n",
    "\n",
    "`StopIteration` indicates the end of iteration"
   ],
   "cell_type": "markdown",
   "metadata": {}
  },
  {
   "cell_type": "code",
   "execution_count": 33,
   "metadata": {},
   "outputs": [
    {
     "output_type": "stream",
     "name": "stdout",
     "text": [
      "F\na\nr\ni\ns\n"
     ]
    },
    {
     "output_type": "error",
     "ename": "StopIteration",
     "evalue": "",
     "traceback": [
      "\u001b[0;31m---------------------------------------------------------------------------\u001b[0m",
      "\u001b[0;31mStopIteration\u001b[0m                             Traceback (most recent call last)",
      "\u001b[0;32m<ipython-input-33-762e1412b86c>\u001b[0m in \u001b[0;36m<module>\u001b[0;34m\u001b[0m\n\u001b[1;32m      7\u001b[0m \u001b[0mprint\u001b[0m\u001b[0;34m(\u001b[0m\u001b[0mnext\u001b[0m\u001b[0;34m(\u001b[0m\u001b[0mit\u001b[0m\u001b[0;34m)\u001b[0m\u001b[0;34m)\u001b[0m\u001b[0;34m\u001b[0m\u001b[0;34m\u001b[0m\u001b[0m\n\u001b[1;32m      8\u001b[0m \u001b[0mprint\u001b[0m\u001b[0;34m(\u001b[0m\u001b[0mnext\u001b[0m\u001b[0;34m(\u001b[0m\u001b[0mit\u001b[0m\u001b[0;34m)\u001b[0m\u001b[0;34m)\u001b[0m\u001b[0;34m\u001b[0m\u001b[0;34m\u001b[0m\u001b[0m\n\u001b[0;32m----> 9\u001b[0;31m \u001b[0mprint\u001b[0m\u001b[0;34m(\u001b[0m\u001b[0mnext\u001b[0m\u001b[0;34m(\u001b[0m\u001b[0mit\u001b[0m\u001b[0;34m)\u001b[0m\u001b[0;34m)\u001b[0m\u001b[0;34m\u001b[0m\u001b[0;34m\u001b[0m\u001b[0m\n\u001b[0m",
      "\u001b[0;31mStopIteration\u001b[0m: "
     ]
    }
   ],
   "source": [
    "name = 'Faris'\n",
    "it = iter(name)\n",
    "\n",
    "print(next(it))\n",
    "print(next(it))\n",
    "print(next(it))\n",
    "print(next(it))\n",
    "print(next(it))\n",
    "print(next(it))"
   ]
  },
  {
   "source": [
    "## iteration\n",
    "\n",
    "Actually, it is the process of looping over something to take items.\n",
    "\n",
    "The `for` loop creates an iterator object, and call `next` method in each loop. Finally catch `StopIteration` error when meeting the terminating condition automatically.\n",
    "\n",
    "Keep in mind, string is an iterable object but not an iterator."
   ],
   "cell_type": "markdown",
   "metadata": {}
  },
  {
   "cell_type": "code",
   "execution_count": 16,
   "metadata": {},
   "outputs": [
    {
     "output_type": "stream",
     "name": "stdout",
     "text": [
      "F\na\nr\ni\ns\n"
     ]
    }
   ],
   "source": [
    "name = 'Faris'\n",
    "for i in name:\n",
    "    print(i)"
   ]
  },
  {
   "source": [
    "## `generator`\n",
    "\n",
    "It is an iterator object, but just can be executed once since it does not store data in memory.\n",
    "\n",
    "\n",
    "Generators are best for calculating large sets of results where you do not want to allocate the memory for all results at the same time.\n",
    "\n",
    "\n",
    "If you want to implements iterator protocol. `generator` is the easiest way."
   ],
   "cell_type": "markdown",
   "metadata": {}
  },
  {
   "cell_type": "code",
   "execution_count": 40,
   "metadata": {},
   "outputs": [
    {
     "output_type": "stream",
     "name": "stdout",
     "text": [
      "10\n1\n2\n3\n4\n5\n6\n7\n8\n9\n10\n"
     ]
    }
   ],
   "source": [
    "class Countdown:\n",
    "\n",
    "    def __init__(self, start):\n",
    "        self._start = start\n",
    "    \n",
    "    def countdown(self):\n",
    "        return self.__reversed__()\n",
    "\n",
    "    def __iter__(self):\n",
    "        n = self._start\n",
    "        while n > 0:\n",
    "            yield n\n",
    "            n -= 1\n",
    "    \n",
    "    #implement `__reversed__` method for using built-in method `reversed()`\n",
    "    def __reversed__(self):\n",
    "        n = 1\n",
    "        while n <= self._start:\n",
    "            yield n\n",
    "            n += 1\n",
    "\n",
    "countdown = iter(Countdown(10))\n",
    "\n",
    "print(next(countdown))\n",
    "\n",
    "for i in reversed(Countdown(10)):\n",
    "    print(i)"
   ]
  },
  {
   "cell_type": "code",
   "execution_count": 9,
   "metadata": {},
   "outputs": [
    {
     "output_type": "stream",
     "name": "stdout",
     "text": [
      "0\n1\n2\n3\n4\n5\n6\n7\n8\n9\n--------\n"
     ]
    }
   ],
   "source": [
    "def generate_number(start, end):\n",
    "    for i in range(start, end):\n",
    "        yield i\n",
    "\n",
    "gen = generate_number(0, 10)\n",
    "for i in gen:\n",
    "    print(i)\n",
    "\n",
    "print('--------')\n",
    "for i in gen:\n",
    "    print(i)\n",
    "    "
   ]
  },
  {
   "cell_type": "code",
   "execution_count": 11,
   "metadata": {},
   "outputs": [
    {
     "output_type": "stream",
     "name": "stdout",
     "text": [
      "1\n1\n2\n3\n5\n8\n13\n21\n"
     ]
    }
   ],
   "source": [
    "# example for fibonacci numbers:\n",
    "\n",
    "def fibonacci(num):\n",
    "    pre = curr = 1\n",
    "    for i in range(2, num):\n",
    "        yield pre\n",
    "        pre,  curr = curr, pre+ curr\n",
    "\n",
    "for num in fibonacci(10):\n",
    "    print(num)"
   ]
  },
  {
   "cell_type": "code",
   "execution_count": 46,
   "metadata": {
    "tags": []
   },
   "outputs": [
    {
     "output_type": "stream",
     "name": "stdout",
     "text": [
      "1\n2\n3\n4\n5\n6\n7\n8\n9\n10\n----------------------\n1\n2\n3\n4\n5\n6\n7\n8\n9\n10\n"
     ]
    }
   ],
   "source": [
    "class NumberCounter:\n",
    "\n",
    "    def __init__(self, start):\n",
    "        self.number = start\n",
    "    \n",
    "    # it is better that returns a generator since generator is an iterator\n",
    "    def __iter__(self):\n",
    "        n = self.number\n",
    "        while n <= 10:\n",
    "            yield n\n",
    "            n += 1\n",
    "\n",
    "\n",
    "counter = NumberCounter(1)\n",
    "for i in counter:\n",
    "    print(i)\n",
    "\n",
    "print('----------------------')\n",
    "\n",
    "#this case is not clearer than the first one.\n",
    "class NumberCounter1:\n",
    "\n",
    "    def __init__(self, start):\n",
    "        self.number = start\n",
    "    \n",
    "    def __iter__(self):\n",
    "        return self\n",
    "\n",
    "    def __next__(self):\n",
    "        if self.number >= 10:\n",
    "            raise StopIteration\n",
    "\n",
    "        n = self.number\n",
    "        self.number += 1\n",
    "        return n\n",
    "\n",
    "#counter is an iterable object, and also an iterator object\n",
    "counter = iter(NumberCounter(1))\n",
    "for i in counter:\n",
    "    print(i)"
   ]
  },
  {
   "cell_type": "code",
   "execution_count": 32,
   "metadata": {},
   "outputs": [
    {
     "output_type": "stream",
     "name": "stdout",
     "text": [
      "Node(1)\nNode(2)\nNode(4)\nNode(3)\nNode(5)\n"
     ]
    }
   ],
   "source": [
    "class Node:\n",
    "\n",
    "    def __init__(self, value):\n",
    "        self._value = value\n",
    "        self._children = []\n",
    "\n",
    "    def __repr__(self):\n",
    "        return 'Node({!r})'.format(self._value)\n",
    "    \n",
    "    def add_node(self, node):\n",
    "        self._children.append(node)\n",
    "\n",
    "    def __iter__(self):\n",
    "        return iter(self._children)\n",
    "    \n",
    "    def depth_first(self):\n",
    "        yield self\n",
    "        for c in self:\n",
    "            yield from c.depth_first()\n",
    "\n",
    "root = Node(1)\n",
    "\n",
    "child1 = Node(2)\n",
    "child2 = Node(3)\n",
    "root.add_node(child1)\n",
    "root.add_node(child2)\n",
    "child1.add_node(Node(4))\n",
    "child2.add_node(Node(5))\n",
    "\n",
    "for child in root.depth_first():\n",
    "    print(child)"
   ]
  }
 ]
}